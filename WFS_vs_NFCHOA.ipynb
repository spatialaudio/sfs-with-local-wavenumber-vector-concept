{
 "cells": [
  {
   "cell_type": "markdown",
   "metadata": {},
   "source": [
    "# WFS vs. NFC-HOA\n",
    "## Frequency vs. Time Domain\n",
    "\n",
    "fs446"
   ]
  },
  {
   "cell_type": "code",
   "execution_count": null,
   "metadata": {},
   "outputs": [],
   "source": [
    "!date +%F"
   ]
  },
  {
   "cell_type": "markdown",
   "metadata": {},
   "source": [
    "We use this jupyter notebook to illustrate the difference of **Wave Field Synthesis** (WFS), i.e. a spatially unlimited Sound Field Synthesis (SFS) approach to synthesis a broadband wavefront vs. so called **Near Field Compensated Higher Order Ambisonics** (NFC-HOA), i.e. modal bandlimited SFS.\n",
    "\n",
    "We use the Python SFS Toolbox https://github.com/sfstoolbox/sfs-python, here tested with version 0.5.0 https://github.com/sfstoolbox/sfs-python/releases/tag/0.5.0\n",
    "\n",
    "### Init Stuff"
   ]
  },
  {
   "cell_type": "code",
   "execution_count": null,
   "metadata": {},
   "outputs": [],
   "source": [
    "import matplotlib.pyplot as plt\n",
    "import matplotlib.colors as colors\n",
    "import numpy as np\n",
    "from scipy.signal import unit_impulse, gausspulse \n",
    "import sfs\n",
    "\n",
    "plt.rcParams['figure.figsize'] = 5, 5  # inch\n",
    "plt.rcParams['axes.grid'] = True\n",
    "plt.rcParams['savefig.dpi'] = 300"
   ]
  },
  {
   "cell_type": "code",
   "execution_count": null,
   "metadata": {},
   "outputs": [],
   "source": [
    "def plot_fd(d, sssel, ss, ttlstr):\n",
    "    p = sfs.fd.synthesize(d, sssel, ssd, ss, grid=grid)\n",
    "\n",
    "    dBrange = 60    \n",
    "    ls_lvl = np.abs(ssd.a * d * sssel) / np.max(np.abs(ssd.a * d * sssel))\n",
    "    ls_lvl = 20*np.log10(ls_lvl)\n",
    "    ls_lvl = 1/dBrange * np.clip(ls_lvl, -dBrange, 0) + 1\n",
    "    \n",
    "    #amplitude\n",
    "    vmin = -2\n",
    "    vmax = 2\n",
    "    bounds = np.arange(vmin, vmax+0.1, 0.1)\n",
    "    norm = colors.BoundaryNorm(boundaries=bounds, ncolors=256)\n",
    "    plt.figure()\n",
    "    sfs.plot2d.amplitude(p, grid, vmin=vmin, vmax=vmax, norm=norm, cmap='RdBu_r')\n",
    "    sfs.plot2d.loudspeakers(ssd.x, ssd.n, ls_lvl, size=0.25)\n",
    "    plt.title(ttlstr)\n",
    "    plt.grid()\n",
    "    #plt.savefig(ttlstr + '_lin_fd.png')\n",
    "    \n",
    "    #level\n",
    "    vmin = -dBrange\n",
    "    step = 6\n",
    "    vmax = 6\n",
    "    bounds = np.arange(vmin,vmax+step,step)\n",
    "    norm = colors.BoundaryNorm(boundaries=bounds, ncolors=256)\n",
    "    plt.figure()\n",
    "    sfs.plot2d.level(p, grid, vmin=vmin, vmax=vmax, norm=norm, cmap='viridis')\n",
    "    sfs.plot2d.loudspeakers(ssd.x, ssd.n, ls_lvl, size=0.25)\n",
    "    plt.grid()    \n",
    "    plt.title(ttlstr) \n",
    "    #plt.savefig(ttlstr + '_db_fd.png')"
   ]
  },
  {
   "cell_type": "code",
   "execution_count": null,
   "metadata": {},
   "outputs": [],
   "source": [
    "def plot_td(d, sssel, ss, t=0, ttlstr=''):\n",
    "    p = sfs.td.synthesize(d, sssel, ssd, ss, grid=grid, observation_time=t)\n",
    "    \n",
    "    # level\n",
    "    vmin = -60\n",
    "    step = 6\n",
    "    vmax = 6\n",
    "    bounds = np.arange(vmin,vmax+step,step)\n",
    "    norm = colors.BoundaryNorm(boundaries=bounds, ncolors=256)\n",
    "    plt.figure()\n",
    "    sfs.plot2d.level(p, grid, vmin=vmin, vmax=vmax, norm=norm, cmap='magma_r')\n",
    "    sfs.plot2d.loudspeakers(ssd.x, ssd.n, sssel, size=0.25)\n",
    "    plt.title(ttlstr)\n",
    "    plt.grid()     \n",
    "    #plt.savefig(ttlstr + '_db_td.png')"
   ]
  },
  {
   "cell_type": "code",
   "execution_count": null,
   "metadata": {},
   "outputs": [],
   "source": [
    "R = 2  # m, secondary source distribution radius\n",
    "N = 2**5  # number of secondary sources\n",
    "ssd = sfs.array.circular(N, R)\n",
    "grid = sfs.util.xyz_grid([-2.1, 2.1], [-2.1, 2.1],\n",
    "                         np.mean(ssd.x[:,2]), spacing=0.01)\n",
    "xref = [0, 0, 0]  # referencing point or WFS"
   ]
  },
  {
   "cell_type": "markdown",
   "metadata": {},
   "source": [
    "## Frequency Domain / Monochromatic SFS"
   ]
  },
  {
   "cell_type": "code",
   "execution_count": null,
   "metadata": {},
   "outputs": [],
   "source": [
    "f = sfs.default.c*1  # Hz\n",
    "lmb = sfs.default.c/f  # m\n",
    "print('frequency', f, 'Hz, wavelength', lmb, 'm')\n",
    "omega = 2 * np.pi * f  # rad/s"
   ]
  },
  {
   "cell_type": "markdown",
   "metadata": {},
   "source": [
    "### Point Source Characteristics"
   ]
  },
  {
   "cell_type": "code",
   "execution_count": null,
   "metadata": {},
   "outputs": [],
   "source": [
    "klmb = 3\n",
    "xs = [-klmb*lmb*np.cos(np.pi/4), klmb*lmb*np.sin(np.pi/4), 0]\n",
    "#xs = [-2.8284271247461903, 2.82842712474619, 0]\n",
    "As = np.linalg.norm(xs)*4*np.pi\n",
    "rs = np.linalg.norm(xs)\n",
    "ts = rs / sfs.default.c"
   ]
  },
  {
   "cell_type": "markdown",
   "metadata": {},
   "source": [
    "### Plane Wave Characteristics"
   ]
  },
  {
   "cell_type": "code",
   "execution_count": null,
   "metadata": {},
   "outputs": [],
   "source": [
    "pw_angle = 315  # propagating direction within xy-plane in deg\n",
    "npw = sfs.util.direction_vector(np.radians(pw_angle), np.radians(90))"
   ]
  },
  {
   "cell_type": "markdown",
   "metadata": {},
   "source": [
    "### SFS of Point Source "
   ]
  },
  {
   "cell_type": "code",
   "execution_count": null,
   "metadata": {},
   "outputs": [],
   "source": [
    "d, sssel, ssfunc = sfs.fd.wfs.point_25d(omega, ssd.x, ssd.n, xs)\n",
    "tapering_window = sfs.tapering.kaiser(sssel, beta=0)\n",
    "normalize = 1\n",
    "plot_fd(As*d*normalize, tapering_window, ssfunc, 'Point Source WFS')"
   ]
  },
  {
   "cell_type": "code",
   "execution_count": null,
   "metadata": {},
   "outputs": [],
   "source": [
    "d, sssel, ssfunc = sfs.fd.nfchoa.point_25d(omega, ssd.x, R, xs)\n",
    "tapering_window = sfs.tapering.kaiser(sssel, beta=0)\n",
    "plot_fd(As*d, tapering_window, ssfunc, 'Point Source NFC-HOA')"
   ]
  },
  {
   "cell_type": "markdown",
   "metadata": {},
   "source": [
    "### SFS of Plane Wave "
   ]
  },
  {
   "cell_type": "code",
   "execution_count": null,
   "metadata": {},
   "outputs": [],
   "source": [
    "d, sssel, ssfunc = sfs.fd.wfs.plane_25d(omega, ssd.x, ssd.n, npw, xref=xref)\n",
    "tapering_window = sfs.tapering.kaiser(sssel, beta=0)\n",
    "plot_fd(d, tapering_window, ssfunc, 'Plane Wave WFS')"
   ]
  },
  {
   "cell_type": "code",
   "execution_count": null,
   "metadata": {},
   "outputs": [],
   "source": [
    "d, sssel, ssfunc = sfs.fd.nfchoa.plane_25d(omega, ssd.x, R, npw)        \n",
    "tapering_window = sfs.tapering.kaiser(sssel, beta=0)\n",
    "plot_fd(d, tapering_window, ssfunc, 'Plane Wave NFC-HOA')"
   ]
  },
  {
   "cell_type": "markdown",
   "metadata": {},
   "source": [
    "## Time Domain  / Monochromatic SFS"
   ]
  },
  {
   "cell_type": "code",
   "execution_count": null,
   "metadata": {},
   "outputs": [],
   "source": [
    "fs = 48000  # Hz, samling frequency\n",
    "#dirac = unit_impulse(512), fs\n",
    "dirac = gausspulse(np.arange(0,512)/fs, fc=f, bw=f/10, bwr=-6, tpr=-60, retquad=False, retenv=False), fs"
   ]
  },
  {
   "cell_type": "markdown",
   "metadata": {},
   "source": [
    "### SFS of Point Source "
   ]
  },
  {
   "cell_type": "code",
   "execution_count": null,
   "metadata": {},
   "outputs": [],
   "source": [
    "delay, amplitude, sssel, ss = sfs.td.wfs.point_25d(ssd.x, ssd.n, xs)\n",
    "weird_normalize = 2.5\n",
    "d = sfs.td.wfs.driving_signals(delay, weird_normalize*amplitude, dirac)\n",
    "tapering_window = sfs.tapering.kaiser(sssel, beta=0)\n",
    "plot_td(d, tapering_window, ss, t=(ts+0/1000), ttlstr='Point Source WFS')"
   ]
  },
  {
   "cell_type": "code",
   "execution_count": null,
   "metadata": {},
   "outputs": [],
   "source": [
    "delay, amplitude, sos, phaseshift, sssel, ss = sfs.td.nfchoa.point_25d(ssd.x, R, xs, fs)\n",
    "d = sfs.td.nfchoa.driving_signals_25d(delay, amplitude, sos, phaseshift, dirac)\n",
    "tapering_window = sfs.tapering.kaiser(sssel, beta=0)\n",
    "plot_td(d, tapering_window, ss, t=(ts+0/1000), ttlstr='Point Source NFC-HOA')"
   ]
  },
  {
   "cell_type": "markdown",
   "metadata": {},
   "source": [
    "### SFS of Plane Wave "
   ]
  },
  {
   "cell_type": "code",
   "execution_count": null,
   "metadata": {},
   "outputs": [],
   "source": [
    "delay, amplitude, sssel, ss = sfs.td.wfs.plane_25d(ssd.x, ssd.n, npw)\n",
    "tapering_window = sfs.tapering.kaiser(sssel, beta=0)\n",
    "d = sfs.td.wfs.driving_signals(delay, amplitude, dirac)\n",
    "plot_td(d, tapering_window, ss, t=0/1000, ttlstr='Plane Wave WFS')"
   ]
  },
  {
   "cell_type": "code",
   "execution_count": null,
   "metadata": {},
   "outputs": [],
   "source": [
    "delay, amplitude, sos, phaseshift, sssel, ss = sfs.td.nfchoa.plane_25d(ssd.x, R, npw, fs)\n",
    "tapering_window = sfs.tapering.kaiser(sssel, beta=0)\n",
    "d = sfs.td.nfchoa.driving_signals_25d(delay, amplitude, sos, phaseshift, dirac)\n",
    "plot_td(d, tapering_window, ss, t=0/1000, ttlstr='Plane Wave NFC-HOA')"
   ]
  }
 ],
 "metadata": {
  "kernelspec": {
   "display_name": "Python 3",
   "language": "python",
   "name": "python3"
  },
  "language_info": {
   "codemirror_mode": {
    "name": "ipython",
    "version": 3
   },
   "file_extension": ".py",
   "mimetype": "text/x-python",
   "name": "python",
   "nbconvert_exporter": "python",
   "pygments_lexer": "ipython3",
   "version": "3.7.2"
  }
 },
 "nbformat": 4,
 "nbformat_minor": 2
}
